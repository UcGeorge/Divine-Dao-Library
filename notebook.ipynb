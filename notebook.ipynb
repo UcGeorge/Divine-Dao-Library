{
 "metadata": {
  "language_info": {
   "codemirror_mode": {
    "name": "ipython",
    "version": 3
   },
   "file_extension": ".py",
   "mimetype": "text/x-python",
   "name": "python",
   "nbconvert_exporter": "python",
   "pygments_lexer": "ipython3",
   "version": "3.7.4-final"
  },
  "orig_nbformat": 2,
  "kernelspec": {
   "name": "Python 3.7.4 64-bit ('base': conda)",
   "display_name": "Python 3.7.4 64-bit ('base': conda)",
   "metadata": {
    "interpreter": {
     "hash": "b3ba2566441a7c06988d0923437866b63cedc61552a5af99d1f4fb67d367b25f"
    }
   }
  }
 },
 "nbformat": 4,
 "nbformat_minor": 2,
 "cells": [
  {
   "cell_type": "code",
   "execution_count": null,
   "metadata": {},
   "outputs": [],
   "source": [
    "import os\n",
    "import requests as req\n",
    "from bs4 import BeautifulSoup as soup\n",
    "import json"
   ]
  },
  {
   "source": [
    "### GENERAL CONSTANTS\n",
    "\n",
    "---"
   ],
   "cell_type": "markdown",
   "metadata": {}
  },
  {
   "cell_type": "code",
   "execution_count": null,
   "metadata": {},
   "outputs": [],
   "source": [
    "WORKING_FILE_DIRECTORY = \"F:\\Read Anime\\Light-Novel\\Books\\{}\\{}\"\n",
    "TESTING_DIRECTORY = \"F:\\Read Anime\\Light-Novel\\Books\\{}\\\\tests\"\n",
    "TESTING_FILE_DIRECTORY = \"F:\\Read Anime\\Light-Novel\\Books\\{}\\\\tests\\{}\"\n",
    "FILE_FORMAT = \".html\"\n",
    "TEXT_FORMAT = \"utf-8\"\n",
    "HTML_PARSE_FORMAT = 'lxml'\n",
    "SOURCE = \"https://www.divinedaolibrary.com/\"\n",
    "TARGET_MANGA = \"Martial Peak\"\n",
    "LOCAL_DATA = json.load(open(\"data.json\"))"
   ]
  },
  {
   "source": [
    "### JSON DATA KEYS\n",
    "\n",
    "---"
   ],
   "cell_type": "markdown",
   "metadata": {}
  },
  {
   "cell_type": "code",
   "execution_count": null,
   "metadata": {},
   "outputs": [],
   "source": [
    "LATEST_CHAPTER = 'local_latest_chapter'\n",
    "LATEST_CHAPTER_URL = 'local_latest_chapter_url'"
   ]
  },
  {
   "source": [
    "### CONSOLE MESSAGES\n",
    "\n",
    "---"
   ],
   "cell_type": "markdown",
   "metadata": {}
  },
  {
   "cell_type": "code",
   "execution_count": null,
   "metadata": {},
   "outputs": [],
   "source": [
    "NO_UPDATES_MESSAGE = \"[NO UPDATES] There were no recent updates beyond {}.\"\n",
    "LAST_CHAPTER_MESSAGE = \"[LAST CHAPTER] {} is the last chapter.\"\n",
    "NEW_CHAPTER_MESSAGE = \"[NEW CHAPTER] Getting {}...\"\n",
    "DOWNLOAD_ERROR_MESSAGE = \"[DOWNLOAD ERROR] There was an error while trying to get {}\"\n",
    "HTTP_REQUEST_MESSAGE = \"[FETCHING DATA] Fetching data from the internet using http requests\"\n",
    "CONNECTION_ERROR_MESSAGE = \"[CONNECTION ERROR] There was a problem connecting to DDL\"\n",
    "COMPLETE_MESSAGE = \"[SUCCESS] All updates have successfully been downloaded\""
   ]
  },
  {
   "source": [
    "### HTML INJECTS\n",
    "\n",
    "---"
   ],
   "cell_type": "markdown",
   "metadata": {}
  },
  {
   "cell_type": "code",
   "execution_count": null,
   "metadata": {},
   "outputs": [],
   "source": [
    "BOILER = '''\n",
    "<html>\n",
    "    <body>\n",
    "        <center>\n",
    "            <div class = \"main-content\">\n",
    "                {}\n",
    "                <br><hr><br>\n",
    "                {}\n",
    "            </div>\n",
    "        </center>\n",
    "    </body>\n",
    "    {}\n",
    "</html>\n",
    "'''\n",
    "TITLE = '''\n",
    "<h1 chass = \"main-title\">{}</h1>\n",
    "'''\n",
    "PARAGRAPH = '''\n",
    "<p>\n",
    "    {}\n",
    "</p>\n",
    "'''\n",
    "STYLE = '''\n",
    "<style>\n",
    "        body {\n",
    "            color: #484848;\n",
    "            line-height: 1.625;\n",
    "            background-color : #EEEEEE !important;\n",
    "        }\n",
    "        h1 {\n",
    "            font-size: 35px;\n",
    "            letter-spacing: 0;\n",
    "            line-height: 140%;\n",
    "            font-weight: 600;\n",
    "            margin-top: 10px;\n",
    "            margin-right: auto;\n",
    "            margin-bottom: 10px;\n",
    "            margin-left: auto;\n",
    "            font-family: 'Lato',sans-serif;\n",
    "            text-align: center;\n",
    "            color: #000000;\n",
    "        }\n",
    "        .main-content {\n",
    "            background-color : #FFFFFF;\n",
    "            width : 850px;\n",
    "            padding-top: 25px;\n",
    "            padding-right: 35px;\n",
    "            padding-bottom: 25px;\n",
    "            padding-left: 35px;\n",
    "            box-shadow: 0 0 15px rgba(0,0,0,.05);\n",
    "        }\n",
    "        .main-content p {\n",
    "            font-size: 20px !important;\n",
    "            font-family: 'Lato',sans-serif;\n",
    "            text-align: left;\n",
    "        }\n",
    "        p {\n",
    "            margin-bottom: 1.5em;\n",
    "            line-height: 28px;\n",
    "        }\n",
    "</style>\n",
    "'''"
   ]
  },
  {
   "source": [
    "### Function: *get_from_soup*(url : *`str`*) `=>` (next_url : *`str`*, html : *`str`*, name : *`str`*) : *`tupule`*\n",
    "A function to get the `html`, `name` and `next_url` from a `url`.<br><br>\n",
    "**SPECS**\n",
    "- `url`: A valid url pointing to a chapter of a light novel hosted on [Divine Dao Library][https://www.divinedaolibrary.com/]\n",
    "- `html`: The html as text from the http request\n",
    "- `name`: The name of the chapter. eg. **Martial Peak Chapter 1239**\n",
    "- `next_url`: The url of the next chapter. Returns `None` if url doesn't exist.\n",
    "\n",
    "---"
   ],
   "cell_type": "markdown",
   "metadata": {}
  },
  {
   "cell_type": "code",
   "execution_count": null,
   "metadata": {},
   "outputs": [],
   "source": [
    "def get_from_soup(url):\n",
    "    print(HTTP_REQUEST_MESSAGE)\n",
    "\n",
    "    try:\n",
    "        html = req.get(url).text\n",
    "    except:\n",
    "        print(CONNECTION_ERROR_MESSAGE)\n",
    "        return (None, None, None)\n",
    "\n",
    "    _soup = soup(html, HTML_PARSE_FORMAT)\n",
    "\n",
    "    title = _soup.find(\"h1\", {\"class\": \"entry-title\"}).text\n",
    "    main = _soup.find(\"div\", {\"class\": \"entry-content\"}).findAll('p')\n",
    "    title_text = TITLE.format(title)\n",
    "    main_text = \"\"\n",
    "\n",
    "    for stuff in main:\n",
    "        main_text += PARAGRAPH.format(stuff.text)\n",
    "\n",
    "    html_text = BOILER.format(title_text, main_text, STYLE)\n",
    "\n",
    "    name = title.split(',')[0].replace(' - ', ' ')\n",
    "    next_url = _soup.find(\"div\", {\"class\": \"entry-content\"}).p.span.findAll('a')[2]\n",
    "\n",
    "    return (next_url, html_text, name)"
   ]
  },
  {
   "source": [
    "### Function: *get_updates*() : *`None`*\n",
    "A function to get all the updated light novel chapters starting from the most recent local chapter.\n",
    "\n",
    "---"
   ],
   "cell_type": "markdown",
   "metadata": {}
  },
  {
   "cell_type": "code",
   "execution_count": null,
   "metadata": {},
   "outputs": [],
   "source": [
    "def get_updates():\n",
    "    last_chapter = LOCAL_DATA[LATEST_CHAPTER]\n",
    "    last_chapter_url = LOCAL_DATA[LATEST_CHAPTER_URL]\n",
    "    next_chapter_url = get_from_soup(last_chapter_url)[0]\n",
    "\n",
    "    if next_chapter_url == None:\n",
    "        print(NO_UPDATES_MESSAGE.format(last_chapter))\n",
    "        return\n",
    "\n",
    "    while next_chapter_url != None:\n",
    "        chapter_url = next_chapter_url\n",
    "        next_chapter_url, chapter_html, chapter_name = get_from_soup(\n",
    "            chapter_url)\n",
    "\n",
    "        print(NEW_CHAPTER_MESSAGE.format(chapter_name))\n",
    "\n",
    "        if next_chapter_url == None:\n",
    "            LOCAL_DATA[LATEST_CHAPTER] = chapter_name\n",
    "            LOCAL_DATA[LATEST_CHAPTER_URL] = chapter_url\n",
    "            print(LAST_CHAPTER_MESSAGE.format(chapter_name))\n",
    "\n",
    "        try:\n",
    "            chapter_html_file = open(TESTING_FILE_DIRECTORY.format(TARGET_MANGA, chapter_name + FILE_FORMAT), \"w\")\n",
    "            #open(WORKING_FILE_DIRECTORY.format(TARGET_MANGA, chapter_name + FILE_FORMAT), \"w\")\n",
    "            chapter_html_file.write(chapter_html)\n",
    "            chapter_html_file.close()\n",
    "        except:\n",
    "            print(DOWNLOAD_ERROR_MESSAGE.format(chapter_name))\n",
    "\n",
    "    print(COMPLETE_MESSAGE)"
   ]
  },
  {
   "source": [
    "## TESTS"
   ],
   "cell_type": "markdown",
   "metadata": {}
  },
  {
   "cell_type": "code",
   "execution_count": null,
   "metadata": {},
   "outputs": [],
   "source": [
    "get_updates()"
   ]
  },
  {
   "source": [
    "## EXPERIMENTS"
   ],
   "cell_type": "markdown",
   "metadata": {}
  },
  {
   "cell_type": "code",
   "execution_count": null,
   "metadata": {},
   "outputs": [],
   "source": [
    "def x_get_from_soup():\n",
    "\n",
    "    print(HTTP_REQUEST_MESSAGE)\n",
    "    last_chapter = LOCAL_DATA[LATEST_CHAPTER]\n",
    "\n",
    "    try:\n",
    "        #This line of code will become a http request in the main program\n",
    "        html_file = open(WORKING_FILE_DIRECTORY.format(TARGET_MANGA, last_chapter + FILE_FORMAT), 'rb')\n",
    "        html = str(html_file.read())\n",
    "        html_file.close()\n",
    "    except:\n",
    "        print(CONNECTION_ERROR_MESSAGE)\n",
    "        return None\n",
    "\n",
    "    #print(html)\n",
    "\n",
    "    _soup = soup(html, HTML_PARSE_FORMAT)\n",
    "\n",
    "    title = _soup.find(\"h1\", {\"class\": \"entry-title\"}).text\n",
    "    main = _soup.find(\"div\", {\"class\": \"entry-content\"}).findAll('p')\n",
    "\n",
    "    title_text = TITLE.format(title).replace('\\\\xe2\\\\x80\\\\x93', '-').replace('\\\\xe2\\\\x80\\\\x99', \"'\").replace('\\\\xe2\\\\x80\\\\x9c', '\"')\n",
    "    #print(title_text)\n",
    "    main_text = \"\"\n",
    "\n",
    "    for stuff in main:\n",
    "        main_text += PARAGRAPH.format(stuff.text).replace('\\\\xe2\\\\x80\\\\x93', '-').replace('\\\\xe2\\\\x80\\\\x99', \"'\").replace('\\\\xe2\\\\x80\\\\x9c', '\"').replace('\\\\xe2\\\\x80\\\\x9d', '\"')\n",
    "    #print(main_text)\n",
    "\n",
    "    html_text = BOILER.format(title_text, main_text, STYLE)\n",
    "    #print(html_text)\n",
    "\n",
    "    return html_text"
   ]
  },
  {
   "cell_type": "code",
   "execution_count": null,
   "metadata": {},
   "outputs": [],
   "source": [
    "def x_get_updates():\n",
    "    last_chapter = LOCAL_DATA[LATEST_CHAPTER]\n",
    "    last_chapter_url = LOCAL_DATA[LATEST_CHAPTER_URL]\n",
    "\n",
    "    chapter_html = x_get_from_soup()\n",
    "\n",
    "    print(NEW_CHAPTER_MESSAGE.format(last_chapter))\n",
    "    \n",
    "    try:\n",
    "        chapter_html_file = open(TESTING_FILE_DIRECTORY.format(last_chapter + FILE_FORMAT), \"w\")\n",
    "        chapter_html_file.write(chapter_html)\n",
    "        chapter_html_file.close()\n",
    "    except:\n",
    "        print(DOWNLOAD_ERROR_MESSAGE.format(last_chapter))\n",
    "    \n",
    "    print(COMPLETE_MESSAGE)"
   ]
  },
  {
   "cell_type": "code",
   "execution_count": null,
   "metadata": {
    "tags": []
   },
   "outputs": [],
   "source": [
    "x_get_updates()"
   ]
  },
  {
   "cell_type": "code",
   "execution_count": null,
   "metadata": {},
   "outputs": [],
   "source": [
    "files = os.listdir(TESTING_DIRECTORY.format(TARGET_MANGA))\n",
    "\n",
    "for f in files:\n",
    "    real_name = f.replace('-\\x80\\x93', '–').replace(' – ', ' ')\n",
    "    print(f\"From {f} to {real_name}\")\n",
    "    os.rename(TESTING_FILE_DIRECTORY.format(TARGET_MANGA, f), TESTING_FILE_DIRECTORY.format(TARGET_MANGA, real_name))"
   ]
  },
  {
   "cell_type": "code",
   "execution_count": null,
   "metadata": {},
   "outputs": [],
   "source": []
  }
 ]
}